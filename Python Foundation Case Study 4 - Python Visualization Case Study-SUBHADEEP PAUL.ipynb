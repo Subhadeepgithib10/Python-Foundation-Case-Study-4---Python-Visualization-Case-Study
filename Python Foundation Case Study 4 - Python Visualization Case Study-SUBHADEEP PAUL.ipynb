{
 "cells": [
  {
   "cell_type": "code",
   "execution_count": 163,
   "id": "4c4929e5",
   "metadata": {},
   "outputs": [],
   "source": [
    "# importing the packages\n",
    "import numpy as np\n",
    "import pandas as pd\n",
    "from matplotlib import pyplot as plt\n",
    "import seaborn as sns\n",
    "%matplotlib inline"
   ]
  },
  {
   "cell_type": "code",
   "execution_count": 164,
   "id": "8b5ddda1",
   "metadata": {},
   "outputs": [],
   "source": [
    "# importing the datdaset\n",
    "SalesData = pd.read_csv(\"D:/Data Science/Case Studies/Python/Python Foundation Case Study 4 - Python Visualization Case Study/SalesData.csv\")"
   ]
  },
  {
   "cell_type": "code",
   "execution_count": 165,
   "id": "b5d9f2e5",
   "metadata": {},
   "outputs": [
    {
     "data": {
      "text/html": [
       "<div>\n",
       "<style scoped>\n",
       "    .dataframe tbody tr th:only-of-type {\n",
       "        vertical-align: middle;\n",
       "    }\n",
       "\n",
       "    .dataframe tbody tr th {\n",
       "        vertical-align: top;\n",
       "    }\n",
       "\n",
       "    .dataframe thead th {\n",
       "        text-align: right;\n",
       "    }\n",
       "</style>\n",
       "<table border=\"1\" class=\"dataframe\">\n",
       "  <thead>\n",
       "    <tr style=\"text-align: right;\">\n",
       "      <th></th>\n",
       "      <th>AccountId</th>\n",
       "      <th>AccountName</th>\n",
       "      <th>Region</th>\n",
       "      <th>Division</th>\n",
       "      <th>City</th>\n",
       "      <th>State</th>\n",
       "      <th>Tier</th>\n",
       "      <th>Month</th>\n",
       "      <th>Sales2015</th>\n",
       "      <th>Sales2016</th>\n",
       "      <th>Units2015</th>\n",
       "      <th>Units2016</th>\n",
       "      <th>TargetAchevied2015</th>\n",
       "      <th>TargetAchevied2016</th>\n",
       "    </tr>\n",
       "  </thead>\n",
       "  <tbody>\n",
       "    <tr>\n",
       "      <th>0</th>\n",
       "      <td>1116</td>\n",
       "      <td>Account1</td>\n",
       "      <td>West</td>\n",
       "      <td>DIAMONDBACK</td>\n",
       "      <td>PHOENIX W</td>\n",
       "      <td>AZ</td>\n",
       "      <td>Low</td>\n",
       "      <td>Aug</td>\n",
       "      <td>0.00</td>\n",
       "      <td>13208.52</td>\n",
       "      <td>0.0</td>\n",
       "      <td>4.0</td>\n",
       "      <td>0.70</td>\n",
       "      <td>1.53</td>\n",
       "    </tr>\n",
       "    <tr>\n",
       "      <th>1</th>\n",
       "      <td>1116</td>\n",
       "      <td>Account1</td>\n",
       "      <td>West</td>\n",
       "      <td>DIAMONDBACK</td>\n",
       "      <td>PHOENIX W</td>\n",
       "      <td>AZ</td>\n",
       "      <td>Low</td>\n",
       "      <td>Oct</td>\n",
       "      <td>10500.78</td>\n",
       "      <td>23114.91</td>\n",
       "      <td>3.0</td>\n",
       "      <td>7.0</td>\n",
       "      <td>0.84</td>\n",
       "      <td>1.31</td>\n",
       "    </tr>\n",
       "    <tr>\n",
       "      <th>2</th>\n",
       "      <td>2391</td>\n",
       "      <td>Account2</td>\n",
       "      <td>East</td>\n",
       "      <td>MINUTEMEN</td>\n",
       "      <td>HARTFORD</td>\n",
       "      <td>CT</td>\n",
       "      <td>Med</td>\n",
       "      <td>Jun</td>\n",
       "      <td>0.00</td>\n",
       "      <td>6627.00</td>\n",
       "      <td>0.0</td>\n",
       "      <td>3.0</td>\n",
       "      <td>1.15</td>\n",
       "      <td>1.29</td>\n",
       "    </tr>\n",
       "    <tr>\n",
       "      <th>3</th>\n",
       "      <td>2391</td>\n",
       "      <td>Account2</td>\n",
       "      <td>East</td>\n",
       "      <td>MINUTEMEN</td>\n",
       "      <td>HARTFORD</td>\n",
       "      <td>CT</td>\n",
       "      <td>Med</td>\n",
       "      <td>Mar</td>\n",
       "      <td>19881.00</td>\n",
       "      <td>13254.00</td>\n",
       "      <td>9.0</td>\n",
       "      <td>6.0</td>\n",
       "      <td>1.33</td>\n",
       "      <td>1.17</td>\n",
       "    </tr>\n",
       "    <tr>\n",
       "      <th>4</th>\n",
       "      <td>2397</td>\n",
       "      <td>Account3</td>\n",
       "      <td>East</td>\n",
       "      <td>MINUTEMEN</td>\n",
       "      <td>WORCESTER</td>\n",
       "      <td>MA</td>\n",
       "      <td>Med</td>\n",
       "      <td>Sep</td>\n",
       "      <td>3684.48</td>\n",
       "      <td>0.00</td>\n",
       "      <td>1.0</td>\n",
       "      <td>0.0</td>\n",
       "      <td>1.02</td>\n",
       "      <td>1.53</td>\n",
       "    </tr>\n",
       "  </tbody>\n",
       "</table>\n",
       "</div>"
      ],
      "text/plain": [
       "   AccountId AccountName Region     Division       City State Tier Month  \\\n",
       "0       1116    Account1   West  DIAMONDBACK  PHOENIX W    AZ  Low   Aug   \n",
       "1       1116    Account1   West  DIAMONDBACK  PHOENIX W    AZ  Low   Oct   \n",
       "2       2391    Account2   East    MINUTEMEN   HARTFORD    CT  Med   Jun   \n",
       "3       2391    Account2   East    MINUTEMEN   HARTFORD    CT  Med   Mar   \n",
       "4       2397    Account3   East    MINUTEMEN  WORCESTER    MA  Med   Sep   \n",
       "\n",
       "   Sales2015  Sales2016  Units2015  Units2016  TargetAchevied2015  \\\n",
       "0       0.00   13208.52        0.0        4.0                0.70   \n",
       "1   10500.78   23114.91        3.0        7.0                0.84   \n",
       "2       0.00    6627.00        0.0        3.0                1.15   \n",
       "3   19881.00   13254.00        9.0        6.0                1.33   \n",
       "4    3684.48       0.00        1.0        0.0                1.02   \n",
       "\n",
       "   TargetAchevied2016  \n",
       "0                1.53  \n",
       "1                1.31  \n",
       "2                1.29  \n",
       "3                1.17  \n",
       "4                1.53  "
      ]
     },
     "execution_count": 165,
     "metadata": {},
     "output_type": "execute_result"
    }
   ],
   "source": [
    "SalesData.head()"
   ]
  },
  {
   "cell_type": "markdown",
   "id": "684220ad",
   "metadata": {},
   "source": [
    "### 1. Compare Sales by region for 2016 with 2015 using bar chart"
   ]
  },
  {
   "cell_type": "code",
   "execution_count": 166,
   "id": "ddb66c9c",
   "metadata": {},
   "outputs": [],
   "source": [
    "SalesData1 = SalesData.groupby([\"Region\"])[[\"Sales2015\",\"Sales2016\"]].sum()"
   ]
  },
  {
   "cell_type": "code",
   "execution_count": 167,
   "id": "3935e9cc",
   "metadata": {},
   "outputs": [
    {
     "data": {
      "text/html": [
       "<div>\n",
       "<style scoped>\n",
       "    .dataframe tbody tr th:only-of-type {\n",
       "        vertical-align: middle;\n",
       "    }\n",
       "\n",
       "    .dataframe tbody tr th {\n",
       "        vertical-align: top;\n",
       "    }\n",
       "\n",
       "    .dataframe thead th {\n",
       "        text-align: right;\n",
       "    }\n",
       "</style>\n",
       "<table border=\"1\" class=\"dataframe\">\n",
       "  <thead>\n",
       "    <tr style=\"text-align: right;\">\n",
       "      <th></th>\n",
       "      <th>Sales2015</th>\n",
       "      <th>Sales2016</th>\n",
       "    </tr>\n",
       "    <tr>\n",
       "      <th>Region</th>\n",
       "      <th></th>\n",
       "      <th></th>\n",
       "    </tr>\n",
       "  </thead>\n",
       "  <tbody>\n",
       "    <tr>\n",
       "      <th>Central</th>\n",
       "      <td>7.891729e+06</td>\n",
       "      <td>9.787809e+06</td>\n",
       "    </tr>\n",
       "    <tr>\n",
       "      <th>East</th>\n",
       "      <td>9.512916e+06</td>\n",
       "      <td>1.266723e+07</td>\n",
       "    </tr>\n",
       "    <tr>\n",
       "      <th>West</th>\n",
       "      <td>5.349745e+06</td>\n",
       "      <td>7.209689e+06</td>\n",
       "    </tr>\n",
       "  </tbody>\n",
       "</table>\n",
       "</div>"
      ],
      "text/plain": [
       "            Sales2015     Sales2016\n",
       "Region                             \n",
       "Central  7.891729e+06  9.787809e+06\n",
       "East     9.512916e+06  1.266723e+07\n",
       "West     5.349745e+06  7.209689e+06"
      ]
     },
     "execution_count": 167,
     "metadata": {},
     "output_type": "execute_result"
    }
   ],
   "source": [
    "SalesData1"
   ]
  },
  {
   "cell_type": "code",
   "execution_count": 168,
   "id": "e844fc8b",
   "metadata": {},
   "outputs": [
    {
     "data": {
      "image/png": "[encoded data removed]",
      "text/plain": [
       "<Figure size 864x432 with 1 Axes>"
      ]
     },
     "metadata": {
      "needs_background": "light"
     },
     "output_type": "display_data"
    }
   ],
   "source": [
    "SalesData1graph = SalesData1.plot.bar(figsize=(12,6), rot=0)"
   ]
  },
  {
   "cell_type": "markdown",
   "id": "747cfebe",
   "metadata": {},
   "source": [
    "### 2. What are the contributing factors to the sales for each region in 2016. Visualize it using a Pie Chart."
   ]
  },
  {
   "cell_type": "code",
   "execution_count": 169,
   "id": "da62ff6f",
   "metadata": {},
   "outputs": [
    {
     "data": {
      "text/plain": [
       "array([<AxesSubplot:ylabel='Sales2016'>], dtype=object)"
      ]
     },
     "execution_count": 169,
     "metadata": {},
     "output_type": "execute_result"
    },
    {
     "data": {
      "image/png": "[encoded data removed]",
      "text/plain": [
       "<Figure size 432x288 with 1 Axes>"
      ]
     },
     "metadata": {},
     "output_type": "display_data"
    }
   ],
   "source": [
    "SalesData2 = SalesData.groupby([\"Region\"])[[\"Sales2016\"]].sum()\n",
    "pieLabels = ['Central', 'East', 'West']\n",
    "SalesData2.plot(kind='pie', \n",
    "            labels=pieLabels, \n",
    "            colors=['r', 'g', 'b'],\n",
    "            autopct='%1.1f%%', # to get percentage and round off appropriately\n",
    "            fontsize=10, \n",
    "            subplots='true')"
   ]
  },
  {
   "cell_type": "markdown",
   "id": "152f07a3",
   "metadata": {},
   "source": [
    "### 3. Compare the total sales of 2015 and 2016 with respect to Region and Tiers"
   ]
  },
  {
   "cell_type": "code",
   "execution_count": 170,
   "id": "b63fd525",
   "metadata": {},
   "outputs": [],
   "source": [
    "SalesData3 = SalesData.groupby([\"Region\",\"Tier\"])[[\"Sales2015\",\"Sales2016\"]].sum()"
   ]
  },
  {
   "cell_type": "code",
   "execution_count": 171,
   "id": "6e2c2923",
   "metadata": {},
   "outputs": [
    {
     "data": {
      "text/html": [
       "<div>\n",
       "<style scoped>\n",
       "    .dataframe tbody tr th:only-of-type {\n",
       "        vertical-align: middle;\n",
       "    }\n",
       "\n",
       "    .dataframe tbody tr th {\n",
       "        vertical-align: top;\n",
       "    }\n",
       "\n",
       "    .dataframe thead th {\n",
       "        text-align: right;\n",
       "    }\n",
       "</style>\n",
       "<table border=\"1\" class=\"dataframe\">\n",
       "  <thead>\n",
       "    <tr style=\"text-align: right;\">\n",
       "      <th></th>\n",
       "      <th></th>\n",
       "      <th>Sales2015</th>\n",
       "      <th>Sales2016</th>\n",
       "    </tr>\n",
       "    <tr>\n",
       "      <th>Region</th>\n",
       "      <th>Tier</th>\n",
       "      <th></th>\n",
       "      <th></th>\n",
       "    </tr>\n",
       "  </thead>\n",
       "  <tbody>\n",
       "    <tr>\n",
       "      <th rowspan=\"4\" valign=\"top\">Central</th>\n",
       "      <th>High</th>\n",
       "      <td>4.798698e+06</td>\n",
       "      <td>6.026043e+06</td>\n",
       "    </tr>\n",
       "    <tr>\n",
       "      <th>Low</th>\n",
       "      <td>9.434397e+05</td>\n",
       "      <td>1.132833e+06</td>\n",
       "    </tr>\n",
       "    <tr>\n",
       "      <th>Med</th>\n",
       "      <td>2.068226e+06</td>\n",
       "      <td>2.632181e+06</td>\n",
       "    </tr>\n",
       "    <tr>\n",
       "      <th>Out</th>\n",
       "      <td>8.136489e+04</td>\n",
       "      <td>-3.248530e+03</td>\n",
       "    </tr>\n",
       "    <tr>\n",
       "      <th rowspan=\"4\" valign=\"top\">East</th>\n",
       "      <th>High</th>\n",
       "      <td>6.102946e+06</td>\n",
       "      <td>7.817151e+06</td>\n",
       "    </tr>\n",
       "    <tr>\n",
       "      <th>Low</th>\n",
       "      <td>9.016658e+05</td>\n",
       "      <td>1.144930e+06</td>\n",
       "    </tr>\n",
       "    <tr>\n",
       "      <th>Med</th>\n",
       "      <td>2.470998e+06</td>\n",
       "      <td>3.705150e+06</td>\n",
       "    </tr>\n",
       "    <tr>\n",
       "      <th>Out</th>\n",
       "      <td>3.730655e+04</td>\n",
       "      <td>0.000000e+00</td>\n",
       "    </tr>\n",
       "    <tr>\n",
       "      <th rowspan=\"4\" valign=\"top\">West</th>\n",
       "      <th>High</th>\n",
       "      <td>2.944789e+06</td>\n",
       "      <td>3.768038e+06</td>\n",
       "    </tr>\n",
       "    <tr>\n",
       "      <th>Low</th>\n",
       "      <td>6.710644e+05</td>\n",
       "      <td>1.099502e+06</td>\n",
       "    </tr>\n",
       "    <tr>\n",
       "      <th>Med</th>\n",
       "      <td>1.718476e+06</td>\n",
       "      <td>2.342149e+06</td>\n",
       "    </tr>\n",
       "    <tr>\n",
       "      <th>Out</th>\n",
       "      <td>1.541508e+04</td>\n",
       "      <td>0.000000e+00</td>\n",
       "    </tr>\n",
       "  </tbody>\n",
       "</table>\n",
       "</div>"
      ],
      "text/plain": [
       "                 Sales2015     Sales2016\n",
       "Region  Tier                            \n",
       "Central High  4.798698e+06  6.026043e+06\n",
       "        Low   9.434397e+05  1.132833e+06\n",
       "        Med   2.068226e+06  2.632181e+06\n",
       "        Out   8.136489e+04 -3.248530e+03\n",
       "East    High  6.102946e+06  7.817151e+06\n",
       "        Low   9.016658e+05  1.144930e+06\n",
       "        Med   2.470998e+06  3.705150e+06\n",
       "        Out   3.730655e+04  0.000000e+00\n",
       "West    High  2.944789e+06  3.768038e+06\n",
       "        Low   6.710644e+05  1.099502e+06\n",
       "        Med   1.718476e+06  2.342149e+06\n",
       "        Out   1.541508e+04  0.000000e+00"
      ]
     },
     "execution_count": 171,
     "metadata": {},
     "output_type": "execute_result"
    }
   ],
   "source": [
    "SalesData3"
   ]
  },
  {
   "cell_type": "code",
   "execution_count": 172,
   "id": "72867be1",
   "metadata": {},
   "outputs": [
    {
     "data": {
      "image/png": "[encoded data removed]",
      "text/plain": [
       "<Figure size 1080x432 with 1 Axes>"
      ]
     },
     "metadata": {
      "needs_background": "light"
     },
     "output_type": "display_data"
    }
   ],
   "source": [
    "SalesData3graph = SalesData3.plot.bar(figsize=(15,6),rot=0)"
   ]
  },
  {
   "cell_type": "markdown",
   "id": "e4c29fc2",
   "metadata": {},
   "source": [
    "### 4. In East region, which state registered a decline in 2016 as compared to 2015?"
   ]
  },
  {
   "cell_type": "code",
   "execution_count": 173,
   "id": "35ae9ee8",
   "metadata": {},
   "outputs": [],
   "source": [
    "SalesData4 = SalesData.groupby([\"Region\",\"State\"])[[\"Sales2015\",\"Sales2016\"]].sum().reset_index()"
   ]
  },
  {
   "cell_type": "code",
   "execution_count": 174,
   "id": "5481a897",
   "metadata": {},
   "outputs": [],
   "source": [
    "SalesData4_East = SalesData4.loc[SalesData4.Region == 'East', ['Sales2015','Sales2016','State']]"
   ]
  },
  {
   "cell_type": "code",
   "execution_count": 175,
   "id": "62c0207e",
   "metadata": {},
   "outputs": [],
   "source": [
    "SalesData4_East = SalesData4_East.set_index('State')"
   ]
  },
  {
   "cell_type": "code",
   "execution_count": 176,
   "id": "1bfe7d02",
   "metadata": {},
   "outputs": [
    {
     "name": "stdout",
     "output_type": "stream",
     "text": [
      "In the East Region, NY registered a decline in 2016\n"
     ]
    },
    {
     "data": {
      "image/png": "[encoded data removed]",
      "text/plain": [
       "<Figure size 1080x432 with 1 Axes>"
      ]
     },
     "metadata": {
      "needs_background": "light"
     },
     "output_type": "display_data"
    }
   ],
   "source": [
    "SalesData4graph = SalesData4_East.plot.bar(figsize=(15,6),rot=0)\n",
    "print('In the East Region, NY registered a decline in 2016')"
   ]
  },
  {
   "cell_type": "markdown",
   "id": "6c5e2663",
   "metadata": {},
   "source": [
    "### 5. In all the High tier, which Division saw a decline in number of units sold in 2016 compared to 2015?"
   ]
  },
  {
   "cell_type": "code",
   "execution_count": 177,
   "id": "6b473030",
   "metadata": {},
   "outputs": [],
   "source": [
    "SalesData5 = SalesData.groupby([\"Division\",\"Tier\"])[[\"Sales2015\",\"Sales2016\"]].sum().reset_index()"
   ]
  },
  {
   "cell_type": "code",
   "execution_count": 178,
   "id": "9b7c8a9b",
   "metadata": {},
   "outputs": [
    {
     "data": {
      "text/html": [
       "<div>\n",
       "<style scoped>\n",
       "    .dataframe tbody tr th:only-of-type {\n",
       "        vertical-align: middle;\n",
       "    }\n",
       "\n",
       "    .dataframe tbody tr th {\n",
       "        vertical-align: top;\n",
       "    }\n",
       "\n",
       "    .dataframe thead th {\n",
       "        text-align: right;\n",
       "    }\n",
       "</style>\n",
       "<table border=\"1\" class=\"dataframe\">\n",
       "  <thead>\n",
       "    <tr style=\"text-align: right;\">\n",
       "      <th></th>\n",
       "      <th>Division</th>\n",
       "      <th>Tier</th>\n",
       "      <th>Sales2015</th>\n",
       "      <th>Sales2016</th>\n",
       "    </tr>\n",
       "  </thead>\n",
       "  <tbody>\n",
       "    <tr>\n",
       "      <th>0</th>\n",
       "      <td>BIG APPLE</td>\n",
       "      <td>High</td>\n",
       "      <td>563638.61</td>\n",
       "      <td>669485.03</td>\n",
       "    </tr>\n",
       "    <tr>\n",
       "      <th>1</th>\n",
       "      <td>BIG APPLE</td>\n",
       "      <td>Low</td>\n",
       "      <td>69462.02</td>\n",
       "      <td>79538.27</td>\n",
       "    </tr>\n",
       "    <tr>\n",
       "      <th>2</th>\n",
       "      <td>BIG APPLE</td>\n",
       "      <td>Med</td>\n",
       "      <td>272834.08</td>\n",
       "      <td>277194.52</td>\n",
       "    </tr>\n",
       "    <tr>\n",
       "      <th>3</th>\n",
       "      <td>BIG APPLE</td>\n",
       "      <td>Out</td>\n",
       "      <td>7368.96</td>\n",
       "      <td>0.00</td>\n",
       "    </tr>\n",
       "    <tr>\n",
       "      <th>4</th>\n",
       "      <td>CHARGERS</td>\n",
       "      <td>High</td>\n",
       "      <td>357746.20</td>\n",
       "      <td>485728.16</td>\n",
       "    </tr>\n",
       "  </tbody>\n",
       "</table>\n",
       "</div>"
      ],
      "text/plain": [
       "    Division  Tier  Sales2015  Sales2016\n",
       "0  BIG APPLE  High  563638.61  669485.03\n",
       "1  BIG APPLE   Low   69462.02   79538.27\n",
       "2  BIG APPLE   Med  272834.08  277194.52\n",
       "3  BIG APPLE   Out    7368.96       0.00\n",
       "4   CHARGERS  High  357746.20  485728.16"
      ]
     },
     "execution_count": 178,
     "metadata": {},
     "output_type": "execute_result"
    }
   ],
   "source": [
    "SalesData5.head()"
   ]
  },
  {
   "cell_type": "code",
   "execution_count": 179,
   "id": "8caaf10e",
   "metadata": {},
   "outputs": [],
   "source": [
    "SalesData5_High = SalesData5.loc[SalesData5.Tier == 'High', ['Sales2015','Sales2016','Division']]"
   ]
  },
  {
   "cell_type": "code",
   "execution_count": 180,
   "id": "c3c53f68",
   "metadata": {},
   "outputs": [],
   "source": [
    "SalesData5_High = SalesData5_High.set_index('Division')"
   ]
  },
  {
   "cell_type": "code",
   "execution_count": 181,
   "id": "d77d7532",
   "metadata": {},
   "outputs": [
    {
     "data": {
      "text/html": [
       "<div>\n",
       "<style scoped>\n",
       "    .dataframe tbody tr th:only-of-type {\n",
       "        vertical-align: middle;\n",
       "    }\n",
       "\n",
       "    .dataframe tbody tr th {\n",
       "        vertical-align: top;\n",
       "    }\n",
       "\n",
       "    .dataframe thead th {\n",
       "        text-align: right;\n",
       "    }\n",
       "</style>\n",
       "<table border=\"1\" class=\"dataframe\">\n",
       "  <thead>\n",
       "    <tr style=\"text-align: right;\">\n",
       "      <th></th>\n",
       "      <th>Sales2015</th>\n",
       "      <th>Sales2016</th>\n",
       "    </tr>\n",
       "    <tr>\n",
       "      <th>Division</th>\n",
       "      <th></th>\n",
       "      <th></th>\n",
       "    </tr>\n",
       "  </thead>\n",
       "  <tbody>\n",
       "    <tr>\n",
       "      <th>BIG APPLE</th>\n",
       "      <td>563638.61</td>\n",
       "      <td>669485.03</td>\n",
       "    </tr>\n",
       "    <tr>\n",
       "      <th>CHARGERS</th>\n",
       "      <td>357746.20</td>\n",
       "      <td>485728.16</td>\n",
       "    </tr>\n",
       "    <tr>\n",
       "      <th>CONGRESSIONAL</th>\n",
       "      <td>481600.89</td>\n",
       "      <td>591768.57</td>\n",
       "    </tr>\n",
       "    <tr>\n",
       "      <th>DIAMONDBACK</th>\n",
       "      <td>422571.32</td>\n",
       "      <td>487963.45</td>\n",
       "    </tr>\n",
       "    <tr>\n",
       "      <th>EMPIRE</th>\n",
       "      <td>908479.99</td>\n",
       "      <td>1027031.07</td>\n",
       "    </tr>\n",
       "    <tr>\n",
       "      <th>GRIDIRON</th>\n",
       "      <td>499841.12</td>\n",
       "      <td>623601.66</td>\n",
       "    </tr>\n",
       "    <tr>\n",
       "      <th>GULF STREAM</th>\n",
       "      <td>507790.52</td>\n",
       "      <td>807835.66</td>\n",
       "    </tr>\n",
       "    <tr>\n",
       "      <th>HAILSTORM</th>\n",
       "      <td>515226.63</td>\n",
       "      <td>691777.98</td>\n",
       "    </tr>\n",
       "    <tr>\n",
       "      <th>KINETIC</th>\n",
       "      <td>614482.72</td>\n",
       "      <td>667336.37</td>\n",
       "    </tr>\n",
       "    <tr>\n",
       "      <th>MINUTEMEN</th>\n",
       "      <td>618158.37</td>\n",
       "      <td>747001.51</td>\n",
       "    </tr>\n",
       "    <tr>\n",
       "      <th>MUDDY WATERS</th>\n",
       "      <td>444958.31</td>\n",
       "      <td>610003.75</td>\n",
       "    </tr>\n",
       "    <tr>\n",
       "      <th>NORDIC</th>\n",
       "      <td>565723.38</td>\n",
       "      <td>636846.01</td>\n",
       "    </tr>\n",
       "    <tr>\n",
       "      <th>NORTHWEST</th>\n",
       "      <td>373592.80</td>\n",
       "      <td>439370.91</td>\n",
       "    </tr>\n",
       "    <tr>\n",
       "      <th>ORION</th>\n",
       "      <td>481504.53</td>\n",
       "      <td>750046.34</td>\n",
       "    </tr>\n",
       "    <tr>\n",
       "      <th>RACEWAY</th>\n",
       "      <td>524352.97</td>\n",
       "      <td>873553.37</td>\n",
       "    </tr>\n",
       "    <tr>\n",
       "      <th>REVOLUTION</th>\n",
       "      <td>491242.22</td>\n",
       "      <td>539168.62</td>\n",
       "    </tr>\n",
       "    <tr>\n",
       "      <th>RIPTIDE</th>\n",
       "      <td>424525.10</td>\n",
       "      <td>525107.32</td>\n",
       "    </tr>\n",
       "    <tr>\n",
       "      <th>SOUTHERN STAR</th>\n",
       "      <td>659347.78</td>\n",
       "      <td>777971.13</td>\n",
       "    </tr>\n",
       "    <tr>\n",
       "      <th>STAMPEDE</th>\n",
       "      <td>542975.11</td>\n",
       "      <td>675598.18</td>\n",
       "    </tr>\n",
       "    <tr>\n",
       "      <th>SYNERGY</th>\n",
       "      <td>835654.07</td>\n",
       "      <td>1076243.00</td>\n",
       "    </tr>\n",
       "    <tr>\n",
       "      <th>THE CAROLINAS</th>\n",
       "      <td>738403.51</td>\n",
       "      <td>979102.01</td>\n",
       "    </tr>\n",
       "    <tr>\n",
       "      <th>TORNADO VALLEY</th>\n",
       "      <td>365398.45</td>\n",
       "      <td>529822.29</td>\n",
       "    </tr>\n",
       "    <tr>\n",
       "      <th>VICTORY</th>\n",
       "      <td>476473.41</td>\n",
       "      <td>629469.29</td>\n",
       "    </tr>\n",
       "    <tr>\n",
       "      <th>WAVE RIDER</th>\n",
       "      <td>485728.76</td>\n",
       "      <td>608268.24</td>\n",
       "    </tr>\n",
       "    <tr>\n",
       "      <th>WOLVERINE</th>\n",
       "      <td>368656.35</td>\n",
       "      <td>436857.32</td>\n",
       "    </tr>\n",
       "    <tr>\n",
       "      <th>WRANGLER</th>\n",
       "      <td>578360.69</td>\n",
       "      <td>724275.15</td>\n",
       "    </tr>\n",
       "  </tbody>\n",
       "</table>\n",
       "</div>"
      ],
      "text/plain": [
       "                Sales2015   Sales2016\n",
       "Division                             \n",
       "BIG APPLE       563638.61   669485.03\n",
       "CHARGERS        357746.20   485728.16\n",
       "CONGRESSIONAL   481600.89   591768.57\n",
       "DIAMONDBACK     422571.32   487963.45\n",
       "EMPIRE          908479.99  1027031.07\n",
       "GRIDIRON        499841.12   623601.66\n",
       "GULF STREAM     507790.52   807835.66\n",
       "HAILSTORM       515226.63   691777.98\n",
       "KINETIC         614482.72   667336.37\n",
       "MINUTEMEN       618158.37   747001.51\n",
       "MUDDY WATERS    444958.31   610003.75\n",
       "NORDIC          565723.38   636846.01\n",
       "NORTHWEST       373592.80   439370.91\n",
       "ORION           481504.53   750046.34\n",
       "RACEWAY         524352.97   873553.37\n",
       "REVOLUTION      491242.22   539168.62\n",
       "RIPTIDE         424525.10   525107.32\n",
       "SOUTHERN STAR   659347.78   777971.13\n",
       "STAMPEDE        542975.11   675598.18\n",
       "SYNERGY         835654.07  1076243.00\n",
       "THE CAROLINAS   738403.51   979102.01\n",
       "TORNADO VALLEY  365398.45   529822.29\n",
       "VICTORY         476473.41   629469.29\n",
       "WAVE RIDER      485728.76   608268.24\n",
       "WOLVERINE       368656.35   436857.32\n",
       "WRANGLER        578360.69   724275.15"
      ]
     },
     "execution_count": 181,
     "metadata": {},
     "output_type": "execute_result"
    }
   ],
   "source": [
    "SalesData5_High"
   ]
  },
  {
   "cell_type": "code",
   "execution_count": 182,
   "id": "26dd552f",
   "metadata": {},
   "outputs": [
    {
     "data": {
      "image/png": "[encoded data removed]",
      "text/plain": [
       "<Figure size 1080x432 with 1 Axes>"
      ]
     },
     "metadata": {
      "needs_background": "light"
     },
     "output_type": "display_data"
    }
   ],
   "source": [
    "SalesData5graph = SalesData5_High.plot.bar(figsize=(15,6),rot=-60)"
   ]
  },
  {
   "cell_type": "markdown",
   "id": "284009d9",
   "metadata": {},
   "source": [
    "### 6. Create a new column Qtr using numpy.where() or any suitable utility in the imported dataset. The Quarters are based on months and defined as -\n",
    "### • Jan - Mar : Q1\n",
    "### • Apr - Jun : Q2\n",
    "### • Jul - Sep : Q3\n",
    "### • Oct - Dec : Q4"
   ]
  },
  {
   "cell_type": "code",
   "execution_count": 188,
   "id": "ae8cae46",
   "metadata": {},
   "outputs": [],
   "source": [
    "SalesData['Qtr'] = 'Q' + pd.to_datetime(SalesData['Month'], format='%b').dt.quarter.astype(str)"
   ]
  },
  {
   "cell_type": "code",
   "execution_count": 190,
   "id": "8285b9e5",
   "metadata": {},
   "outputs": [
    {
     "data": {
      "text/html": [
       "<div>\n",
       "<style scoped>\n",
       "    .dataframe tbody tr th:only-of-type {\n",
       "        vertical-align: middle;\n",
       "    }\n",
       "\n",
       "    .dataframe tbody tr th {\n",
       "        vertical-align: top;\n",
       "    }\n",
       "\n",
       "    .dataframe thead th {\n",
       "        text-align: right;\n",
       "    }\n",
       "</style>\n",
       "<table border=\"1\" class=\"dataframe\">\n",
       "  <thead>\n",
       "    <tr style=\"text-align: right;\">\n",
       "      <th></th>\n",
       "      <th>AccountId</th>\n",
       "      <th>AccountName</th>\n",
       "      <th>Region</th>\n",
       "      <th>Division</th>\n",
       "      <th>City</th>\n",
       "      <th>State</th>\n",
       "      <th>Tier</th>\n",
       "      <th>Month</th>\n",
       "      <th>Sales2015</th>\n",
       "      <th>Sales2016</th>\n",
       "      <th>Units2015</th>\n",
       "      <th>Units2016</th>\n",
       "      <th>TargetAchevied2015</th>\n",
       "      <th>TargetAchevied2016</th>\n",
       "      <th>Qtr</th>\n",
       "    </tr>\n",
       "  </thead>\n",
       "  <tbody>\n",
       "    <tr>\n",
       "      <th>0</th>\n",
       "      <td>1116</td>\n",
       "      <td>Account1</td>\n",
       "      <td>West</td>\n",
       "      <td>DIAMONDBACK</td>\n",
       "      <td>PHOENIX W</td>\n",
       "      <td>AZ</td>\n",
       "      <td>Low</td>\n",
       "      <td>Aug</td>\n",
       "      <td>0.00</td>\n",
       "      <td>13208.52</td>\n",
       "      <td>0.0</td>\n",
       "      <td>4.0</td>\n",
       "      <td>0.70</td>\n",
       "      <td>1.53</td>\n",
       "      <td>Q3</td>\n",
       "    </tr>\n",
       "    <tr>\n",
       "      <th>1</th>\n",
       "      <td>1116</td>\n",
       "      <td>Account1</td>\n",
       "      <td>West</td>\n",
       "      <td>DIAMONDBACK</td>\n",
       "      <td>PHOENIX W</td>\n",
       "      <td>AZ</td>\n",
       "      <td>Low</td>\n",
       "      <td>Oct</td>\n",
       "      <td>10500.78</td>\n",
       "      <td>23114.91</td>\n",
       "      <td>3.0</td>\n",
       "      <td>7.0</td>\n",
       "      <td>0.84</td>\n",
       "      <td>1.31</td>\n",
       "      <td>Q4</td>\n",
       "    </tr>\n",
       "    <tr>\n",
       "      <th>2</th>\n",
       "      <td>2391</td>\n",
       "      <td>Account2</td>\n",
       "      <td>East</td>\n",
       "      <td>MINUTEMEN</td>\n",
       "      <td>HARTFORD</td>\n",
       "      <td>CT</td>\n",
       "      <td>Med</td>\n",
       "      <td>Jun</td>\n",
       "      <td>0.00</td>\n",
       "      <td>6627.00</td>\n",
       "      <td>0.0</td>\n",
       "      <td>3.0</td>\n",
       "      <td>1.15</td>\n",
       "      <td>1.29</td>\n",
       "      <td>Q2</td>\n",
       "    </tr>\n",
       "    <tr>\n",
       "      <th>3</th>\n",
       "      <td>2391</td>\n",
       "      <td>Account2</td>\n",
       "      <td>East</td>\n",
       "      <td>MINUTEMEN</td>\n",
       "      <td>HARTFORD</td>\n",
       "      <td>CT</td>\n",
       "      <td>Med</td>\n",
       "      <td>Mar</td>\n",
       "      <td>19881.00</td>\n",
       "      <td>13254.00</td>\n",
       "      <td>9.0</td>\n",
       "      <td>6.0</td>\n",
       "      <td>1.33</td>\n",
       "      <td>1.17</td>\n",
       "      <td>Q1</td>\n",
       "    </tr>\n",
       "    <tr>\n",
       "      <th>4</th>\n",
       "      <td>2397</td>\n",
       "      <td>Account3</td>\n",
       "      <td>East</td>\n",
       "      <td>MINUTEMEN</td>\n",
       "      <td>WORCESTER</td>\n",
       "      <td>MA</td>\n",
       "      <td>Med</td>\n",
       "      <td>Sep</td>\n",
       "      <td>3684.48</td>\n",
       "      <td>0.00</td>\n",
       "      <td>1.0</td>\n",
       "      <td>0.0</td>\n",
       "      <td>1.02</td>\n",
       "      <td>1.53</td>\n",
       "      <td>Q3</td>\n",
       "    </tr>\n",
       "  </tbody>\n",
       "</table>\n",
       "</div>"
      ],
      "text/plain": [
       "   AccountId AccountName Region     Division       City State Tier Month  \\\n",
       "0       1116    Account1   West  DIAMONDBACK  PHOENIX W    AZ  Low   Aug   \n",
       "1       1116    Account1   West  DIAMONDBACK  PHOENIX W    AZ  Low   Oct   \n",
       "2       2391    Account2   East    MINUTEMEN   HARTFORD    CT  Med   Jun   \n",
       "3       2391    Account2   East    MINUTEMEN   HARTFORD    CT  Med   Mar   \n",
       "4       2397    Account3   East    MINUTEMEN  WORCESTER    MA  Med   Sep   \n",
       "\n",
       "   Sales2015  Sales2016  Units2015  Units2016  TargetAchevied2015  \\\n",
       "0       0.00   13208.52        0.0        4.0                0.70   \n",
       "1   10500.78   23114.91        3.0        7.0                0.84   \n",
       "2       0.00    6627.00        0.0        3.0                1.15   \n",
       "3   19881.00   13254.00        9.0        6.0                1.33   \n",
       "4    3684.48       0.00        1.0        0.0                1.02   \n",
       "\n",
       "   TargetAchevied2016 Qtr  \n",
       "0                1.53  Q3  \n",
       "1                1.31  Q4  \n",
       "2                1.29  Q2  \n",
       "3                1.17  Q1  \n",
       "4                1.53  Q3  "
      ]
     },
     "execution_count": 190,
     "metadata": {},
     "output_type": "execute_result"
    }
   ],
   "source": [
    "SalesData.head()"
   ]
  },
  {
   "cell_type": "markdown",
   "id": "6fe70297",
   "metadata": {},
   "source": [
    "### 7. Compare Qtr wise sales in 2015 and 2016 in a bar plot"
   ]
  },
  {
   "cell_type": "code",
   "execution_count": 193,
   "id": "76de46f2",
   "metadata": {},
   "outputs": [],
   "source": [
    "SalesData7 = SalesData.groupby([\"Qtr\"])[[\"Sales2015\",\"Sales2016\"]].sum()"
   ]
  },
  {
   "cell_type": "code",
   "execution_count": 194,
   "id": "29414435",
   "metadata": {},
   "outputs": [
    {
     "data": {
      "text/html": [
       "<div>\n",
       "<style scoped>\n",
       "    .dataframe tbody tr th:only-of-type {\n",
       "        vertical-align: middle;\n",
       "    }\n",
       "\n",
       "    .dataframe tbody tr th {\n",
       "        vertical-align: top;\n",
       "    }\n",
       "\n",
       "    .dataframe thead th {\n",
       "        text-align: right;\n",
       "    }\n",
       "</style>\n",
       "<table border=\"1\" class=\"dataframe\">\n",
       "  <thead>\n",
       "    <tr style=\"text-align: right;\">\n",
       "      <th></th>\n",
       "      <th>Sales2015</th>\n",
       "      <th>Sales2016</th>\n",
       "    </tr>\n",
       "    <tr>\n",
       "      <th>Qtr</th>\n",
       "      <th></th>\n",
       "      <th></th>\n",
       "    </tr>\n",
       "  </thead>\n",
       "  <tbody>\n",
       "    <tr>\n",
       "      <th>Q1</th>\n",
       "      <td>5.485800e+06</td>\n",
       "      <td>6.997953e+06</td>\n",
       "    </tr>\n",
       "    <tr>\n",
       "      <th>Q2</th>\n",
       "      <td>5.390862e+06</td>\n",
       "      <td>7.237361e+06</td>\n",
       "    </tr>\n",
       "    <tr>\n",
       "      <th>Q3</th>\n",
       "      <td>6.164094e+06</td>\n",
       "      <td>7.861546e+06</td>\n",
       "    </tr>\n",
       "    <tr>\n",
       "      <th>Q4</th>\n",
       "      <td>5.713634e+06</td>\n",
       "      <td>7.567868e+06</td>\n",
       "    </tr>\n",
       "  </tbody>\n",
       "</table>\n",
       "</div>"
      ],
      "text/plain": [
       "        Sales2015     Sales2016\n",
       "Qtr                            \n",
       "Q1   5.485800e+06  6.997953e+06\n",
       "Q2   5.390862e+06  7.237361e+06\n",
       "Q3   6.164094e+06  7.861546e+06\n",
       "Q4   5.713634e+06  7.567868e+06"
      ]
     },
     "execution_count": 194,
     "metadata": {},
     "output_type": "execute_result"
    }
   ],
   "source": [
    "SalesData7"
   ]
  },
  {
   "cell_type": "code",
   "execution_count": 196,
   "id": "ed399e91",
   "metadata": {},
   "outputs": [
    {
     "data": {
      "image/png": "[encoded data removed]",
      "text/plain": [
       "<Figure size 1080x432 with 1 Axes>"
      ]
     },
     "metadata": {
      "needs_background": "light"
     },
     "output_type": "display_data"
    }
   ],
   "source": [
    "SalesData7graph = SalesData7.plot.bar(figsize=(15,6),rot=0)"
   ]
  },
  {
   "cell_type": "markdown",
   "id": "1681dc98",
   "metadata": {},
   "source": [
    "### 8. Determine the composition of Qtr wise sales in and 2016 with regards to all the Tiers in a pie chart."
   ]
  },
  {
   "cell_type": "code",
   "execution_count": 212,
   "id": "ab5305d4",
   "metadata": {},
   "outputs": [
    {
     "data": {
      "text/html": [
       "<div>\n",
       "<style scoped>\n",
       "    .dataframe tbody tr th:only-of-type {\n",
       "        vertical-align: middle;\n",
       "    }\n",
       "\n",
       "    .dataframe tbody tr th {\n",
       "        vertical-align: top;\n",
       "    }\n",
       "\n",
       "    .dataframe thead tr th {\n",
       "        text-align: left;\n",
       "    }\n",
       "\n",
       "    .dataframe thead tr:last-of-type th {\n",
       "        text-align: right;\n",
       "    }\n",
       "</style>\n",
       "<table border=\"1\" class=\"dataframe\">\n",
       "  <thead>\n",
       "    <tr>\n",
       "      <th>Qtr</th>\n",
       "      <th>Q1</th>\n",
       "      <th>Q2</th>\n",
       "      <th>Q3</th>\n",
       "      <th>Q4</th>\n",
       "    </tr>\n",
       "    <tr>\n",
       "      <th></th>\n",
       "      <th>Sales2016</th>\n",
       "      <th>Sales2016</th>\n",
       "      <th>Sales2016</th>\n",
       "      <th>Sales2016</th>\n",
       "    </tr>\n",
       "    <tr>\n",
       "      <th>Tier</th>\n",
       "      <th></th>\n",
       "      <th></th>\n",
       "      <th></th>\n",
       "      <th></th>\n",
       "    </tr>\n",
       "  </thead>\n",
       "  <tbody>\n",
       "    <tr>\n",
       "      <th>High</th>\n",
       "      <td>3867719.0</td>\n",
       "      <td>4130953.0</td>\n",
       "      <td>4872559.0</td>\n",
       "      <td>4740002.0</td>\n",
       "    </tr>\n",
       "    <tr>\n",
       "      <th>Low</th>\n",
       "      <td>948833.0</td>\n",
       "      <td>890595.0</td>\n",
       "      <td>795178.0</td>\n",
       "      <td>742659.0</td>\n",
       "    </tr>\n",
       "    <tr>\n",
       "      <th>Med</th>\n",
       "      <td>2181402.0</td>\n",
       "      <td>2215814.0</td>\n",
       "      <td>2197058.0</td>\n",
       "      <td>2085207.0</td>\n",
       "    </tr>\n",
       "  </tbody>\n",
       "</table>\n",
       "</div>"
      ],
      "text/plain": [
       "Qtr          Q1         Q2         Q3         Q4\n",
       "      Sales2016  Sales2016  Sales2016  Sales2016\n",
       "Tier                                            \n",
       "High  3867719.0  4130953.0  4872559.0  4740002.0\n",
       "Low    948833.0   890595.0   795178.0   742659.0\n",
       "Med   2181402.0  2215814.0  2197058.0  2085207.0"
      ]
     },
     "execution_count": 212,
     "metadata": {},
     "output_type": "execute_result"
    }
   ],
   "source": [
    "#8. Determine the composition of Qtr wise sales in and 2016 with regards to all the Tiers in a pie chart.\n",
    "SalesData8 = SalesData[SalesData['Tier']!='Out']\n",
    "SalesData8 = SalesData8.groupby([\"Tier\",\"Qtr\"])[[\"Sales2016\"]].sum()\n",
    "SalesData8 = SalesData8.round(decimals=0)\n",
    "SalesData8 = SalesData8.stack() # long to wide data\n",
    "SalesData8 = SalesData8.unstack(level=0)\n",
    "SalesData8 = SalesData8.T\n",
    "SalesData8"
   ]
  },
  {
   "cell_type": "code",
   "execution_count": 213,
   "id": "ea558935",
   "metadata": {},
   "outputs": [
    {
     "data": {
      "image/png": "[encoded data removed]",
      "text/plain": [
       "<Figure size 720x720 with 4 Axes>"
      ]
     },
     "metadata": {},
     "output_type": "display_data"
    }
   ],
   "source": [
    "pielabels = ['High', 'Low', 'Medium','High']\n",
    "SalesData8.plot(kind='pie', \n",
    "            labels=pielabels, \n",
    "            colors=['deepskyblue', 'darkorange', 'darkgreen'],\n",
    "            autopct='%1.0f%%',\n",
    "            fontsize=10,\n",
    "            subplots='true',\n",
    "            layout=(2,2), #to get a grid\n",
    "            figsize=(10,10))\n",
    "plt.show()"
   ]
  },
  {
   "cell_type": "code",
   "execution_count": null,
   "id": "f544703e",
   "metadata": {},
   "outputs": [],
   "source": []
  },
  {
   "cell_type": "code",
   "execution_count": null,
   "id": "ddee7eb3",
   "metadata": {},
   "outputs": [],
   "source": []
  }
 ],
 "metadata": {
  "kernelspec": {
   "display_name": "Python 3",
   "language": "python",
   "name": "python3"
  },
  "language_info": {
   "codemirror_mode": {
    "name": "ipython",
    "version": 3
   },
   "file_extension": ".py",
   "mimetype": "text/x-python",
   "name": "python",
   "nbconvert_exporter": "python",
   "pygments_lexer": "ipython3",
   "version": "3.8.8"
  }
 },
 "nbformat": 4,
 "nbformat_minor": 5
}
